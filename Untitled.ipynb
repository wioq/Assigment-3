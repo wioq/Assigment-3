{
 "cells": [
  {
   "cell_type": "code",
   "execution_count": 1,
   "id": "5a0212dc",
   "metadata": {},
   "outputs": [
    {
     "name": "stdout",
     "output_type": "stream",
     "text": [
      "Twinkle, twinkle, little star, \n",
      "\tHow I wonder what you are! \n",
      "\t\tUp above the world so high, \n",
      "\t\tLike a diamond in the sky. \n",
      "Twinkle, twinkle, little star, \n",
      "\tHow I wonder what you are!\n"
     ]
    }
   ],
   "source": [
    "print(\"Twinkle, twinkle, little star, \\n\\tHow I wonder what you are! \\n\\t\\tUp above the world so high, \\n\\t\\tLike a diamond in the sky. \\nTwinkle, twinkle, little star, \\n\\tHow I wonder what you are!\")"
   ]
  },
  {
   "cell_type": "code",
   "execution_count": 4,
   "id": "bc97ed4e",
   "metadata": {},
   "outputs": [
    {
     "name": "stdout",
     "output_type": "stream",
     "text": [
      "python version\n",
      "3.8.8 (default, Apr 13 2021, 19:58:26) \n",
      "[GCC 7.3.0]\n",
      "version info.\n",
      "sys.version_info(major=3, minor=8, micro=8, releaselevel='final', serial=0)\n"
     ]
    }
   ],
   "source": [
    "import sys\n",
    "print(\"python version\")\n",
    "print(sys.version)\n",
    "print(\"version info.\")\n",
    "print(sys.version_info)"
   ]
  },
  {
   "cell_type": "code",
   "execution_count": 5,
   "id": "0e853c87",
   "metadata": {},
   "outputs": [
    {
     "name": "stdout",
     "output_type": "stream",
     "text": [
      "print current date and time:\n",
      "2021-10-24 15:22:28\n"
     ]
    }
   ],
   "source": [
    "import datetime\n",
    "now = datetime.datetime.now()\n",
    "print(\"print current date and time:\")\n",
    "print(now.strftime(\"%Y-%m-%d %H:%M:%S\"))"
   ]
  },
  {
   "cell_type": "code",
   "execution_count": 6,
   "id": "df24541b",
   "metadata": {},
   "outputs": [
    {
     "name": "stdout",
     "output_type": "stream",
     "text": [
      "enter the radius2.78\n",
      "area of circule with radius2.78is:24.279484664003352\n"
     ]
    }
   ],
   "source": [
    "from math import pi\n",
    "r = float(input(\"enter the radius\"))\n",
    "print(\"area of circule with radius\"+str(r)+\"is:\"+str(pi*r**2))"
   ]
  },
  {
   "cell_type": "code",
   "execution_count": 11,
   "id": "fad0afa6",
   "metadata": {},
   "outputs": [
    {
     "name": "stdout",
     "output_type": "stream",
     "text": [
      "Enter your first name:Nadeem\n",
      "Enter your last name:Ghafoor\n",
      "Welcome Ghafoor Nadeem\n"
     ]
    }
   ],
   "source": [
    "fname = input(\"Enter your first name:\")\n",
    "lname = input(\"Enter your last name:\")\n",
    "print(\"Welcome\" +\" \"+lname+\" \"+fname)"
   ]
  },
  {
   "cell_type": "code",
   "execution_count": 17,
   "id": "a81b36e2",
   "metadata": {},
   "outputs": [
    {
     "name": "stdout",
     "output_type": "stream",
     "text": [
      "Enter a number2\n",
      "Enter a number3\n",
      "sum of 2 and 3 is 5\n"
     ]
    }
   ],
   "source": [
    "a = int(input(\"Enter a number\"))\n",
    "b = int(input(\"Enter a number\"))\n",
    "print(\"sum of\",a, \"and\",b,\"is\",a+b)"
   ]
  },
  {
   "cell_type": "code",
   "execution_count": 19,
   "id": "73111c29",
   "metadata": {},
   "outputs": [
    {
     "name": "stdout",
     "output_type": "stream",
     "text": [
      "Enter your Marks33\n",
      "Enter your Marks44\n",
      "Enter your Marks55\n",
      "Enter your Marks66\n",
      "Enter your Marks77\n",
      "Your Grade is C1\n"
     ]
    }
   ],
   "source": [
    "Math = int(input(\"Enter your Marks\"))\n",
    "Computer = int(input(\"Enter your Marks\"))\n",
    "Physis = int(input(\"Enter your Marks\"))\n",
    "BIO = int(input(\"Enter your Marks\"))\n",
    "English = int(input(\"Enter your Marks\"))\n",
    "Obtaind_Marks = Math+Computer+Physis+BIO+English\n",
    "Total_Marks = 500\n",
    "avg = Obtaind_Marks / Total_Marks * 100\n",
    "if avg>=91 and avg<=100:\n",
    "    print(\"Your Grade is A1\")\n",
    "elif avg>=81 and avg<91:\n",
    "    print(\"Your Grade is A2\")\n",
    "elif avg>=71 and avg<81:\n",
    "    print(\"Your Grade is B1\")\n",
    "elif avg>=61 and avg<71:\n",
    "    print(\"Your Grade is B2\")\n",
    "elif avg>=51 and avg<61:\n",
    "    print(\"Your Grade is C1\")\n",
    "elif avg>=41 and avg<51:\n",
    "    print(\"Your Grade is C2\")\n",
    "elif avg>=33 and avg<41:\n",
    "    print(\"Your Grade is D\")\n",
    "elif avg>=21 and avg<33:\n",
    "    print(\"Your Grade is E1\")\n",
    "elif avg>=0 and avg<21:\n",
    "    print(\"Your Grade is E2\")\n",
    "else:\n",
    "    print(\"Invalid Input!\")"
   ]
  },
  {
   "cell_type": "code",
   "execution_count": 21,
   "id": "471ed22f",
   "metadata": {},
   "outputs": [
    {
     "name": "stdout",
     "output_type": "stream",
     "text": [
      "Please Enter a Number : 4\n",
      "This Number is Even\n"
     ]
    }
   ],
   "source": [
    "a=int(input(\"Please Enter a Number : \"));  \n",
    "if(a%2==0):  \n",
    "    print(\"This Number is Even\")  \n",
    "else:  \n",
    "    print(\"This Number is Odd\")"
   ]
  },
  {
   "cell_type": "code",
   "execution_count": 23,
   "id": "1b841530",
   "metadata": {},
   "outputs": [
    {
     "name": "stdout",
     "output_type": "stream",
     "text": [
      "Number of items in the list =  7\n"
     ]
    }
   ],
   "source": [
    "Name = [\"Hello\", \"Edureka\", 1, 2, 3,565566,0000000]\n",
    "print (\"Number of items in the list = \", len(Name))"
   ]
  },
  {
   "cell_type": "code",
   "execution_count": 25,
   "id": "3787a772",
   "metadata": {},
   "outputs": [
    {
     "name": "stdout",
     "output_type": "stream",
     "text": [
      "Sum of List:  61\n"
     ]
    }
   ],
   "source": [
    "numlist = [2,4,2,5,7,9,23,4,5]\n",
    "numsum = sum(numlist)\n",
    "print('Sum of List: ',numsum)\n"
   ]
  },
  {
   "cell_type": "code",
   "execution_count": 31,
   "id": "a3a7df2b",
   "metadata": {},
   "outputs": [
    {
     "name": "stdout",
     "output_type": "stream",
     "text": [
      "Enter number:2\n",
      "Enter number:3\n",
      "Enter number:4\n",
      "Largest Number is: 4\n"
     ]
    }
   ],
   "source": [
    "a=[]\n",
    "n=int(input(\"Enter number:\"))\n",
    "for i in range(1,n+1):\n",
    "    b=int(input(\"Enter number:\"))\n",
    "    a.append(b)\n",
    "    a.sort() \n",
    "print(\"Largest Number is:\",a[n-1])"
   ]
  },
  {
   "cell_type": "code",
   "execution_count": 40,
   "id": "9a9ea077",
   "metadata": {},
   "outputs": [
    {
     "name": "stdout",
     "output_type": "stream",
     "text": [
      "1\n",
      "1\n",
      "2\n",
      "3\n"
     ]
    }
   ],
   "source": [
    "a = [1, 1, 2, 3, 5, 8, 13, 21, 34, 55, 89]\n",
    "for i in a:\n",
    "     if i < 5:\n",
    "        print(i)"
   ]
  },
  {
   "cell_type": "code",
   "execution_count": null,
   "id": "c310dbb9",
   "metadata": {},
   "outputs": [],
   "source": []
  }
 ],
 "metadata": {
  "kernelspec": {
   "display_name": "Python 3",
   "language": "python",
   "name": "python3"
  }
 },
 "nbformat": 4,
 "nbformat_minor": 5
}
